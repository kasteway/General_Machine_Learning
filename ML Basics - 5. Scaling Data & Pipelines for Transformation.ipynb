{
 "cells": [
  {
   "cell_type": "code",
   "execution_count": 5,
   "id": "40f7463e",
   "metadata": {},
   "outputs": [],
   "source": [
    "import pandas as pd\n",
    "import numpy as np\n",
    "\n",
    "from matplotlib import pyplot as plt"
   ]
  },
  {
   "cell_type": "code",
   "execution_count": 6,
   "id": "f9a94b04",
   "metadata": {},
   "outputs": [
    {
     "name": "stdout",
     "output_type": "stream",
     "text": [
      "(20640, 10)\n"
     ]
    },
    {
     "data": {
      "text/html": [
       "<div>\n",
       "<style scoped>\n",
       "    .dataframe tbody tr th:only-of-type {\n",
       "        vertical-align: middle;\n",
       "    }\n",
       "\n",
       "    .dataframe tbody tr th {\n",
       "        vertical-align: top;\n",
       "    }\n",
       "\n",
       "    .dataframe thead th {\n",
       "        text-align: right;\n",
       "    }\n",
       "</style>\n",
       "<table border=\"1\" class=\"dataframe\">\n",
       "  <thead>\n",
       "    <tr style=\"text-align: right;\">\n",
       "      <th></th>\n",
       "      <th>longitude</th>\n",
       "      <th>latitude</th>\n",
       "      <th>housing_median_age</th>\n",
       "      <th>total_rooms</th>\n",
       "      <th>total_bedrooms</th>\n",
       "      <th>population</th>\n",
       "      <th>households</th>\n",
       "      <th>median_income</th>\n",
       "      <th>median_house_value</th>\n",
       "      <th>ocean_proximity</th>\n",
       "    </tr>\n",
       "  </thead>\n",
       "  <tbody>\n",
       "    <tr>\n",
       "      <th>0</th>\n",
       "      <td>-122.23</td>\n",
       "      <td>37.88</td>\n",
       "      <td>41.0</td>\n",
       "      <td>880.0</td>\n",
       "      <td>129.0</td>\n",
       "      <td>322.0</td>\n",
       "      <td>126.0</td>\n",
       "      <td>8.3252</td>\n",
       "      <td>452600.0</td>\n",
       "      <td>NEAR BAY</td>\n",
       "    </tr>\n",
       "    <tr>\n",
       "      <th>1</th>\n",
       "      <td>-122.22</td>\n",
       "      <td>37.86</td>\n",
       "      <td>21.0</td>\n",
       "      <td>7099.0</td>\n",
       "      <td>1106.0</td>\n",
       "      <td>2401.0</td>\n",
       "      <td>1138.0</td>\n",
       "      <td>8.3014</td>\n",
       "      <td>358500.0</td>\n",
       "      <td>NEAR BAY</td>\n",
       "    </tr>\n",
       "    <tr>\n",
       "      <th>2</th>\n",
       "      <td>-122.24</td>\n",
       "      <td>37.85</td>\n",
       "      <td>52.0</td>\n",
       "      <td>1467.0</td>\n",
       "      <td>190.0</td>\n",
       "      <td>496.0</td>\n",
       "      <td>177.0</td>\n",
       "      <td>7.2574</td>\n",
       "      <td>352100.0</td>\n",
       "      <td>NEAR BAY</td>\n",
       "    </tr>\n",
       "    <tr>\n",
       "      <th>3</th>\n",
       "      <td>-122.25</td>\n",
       "      <td>37.85</td>\n",
       "      <td>52.0</td>\n",
       "      <td>1274.0</td>\n",
       "      <td>235.0</td>\n",
       "      <td>558.0</td>\n",
       "      <td>219.0</td>\n",
       "      <td>5.6431</td>\n",
       "      <td>341300.0</td>\n",
       "      <td>NEAR BAY</td>\n",
       "    </tr>\n",
       "    <tr>\n",
       "      <th>4</th>\n",
       "      <td>-122.25</td>\n",
       "      <td>37.85</td>\n",
       "      <td>52.0</td>\n",
       "      <td>1627.0</td>\n",
       "      <td>280.0</td>\n",
       "      <td>565.0</td>\n",
       "      <td>259.0</td>\n",
       "      <td>3.8462</td>\n",
       "      <td>342200.0</td>\n",
       "      <td>NEAR BAY</td>\n",
       "    </tr>\n",
       "  </tbody>\n",
       "</table>\n",
       "</div>"
      ],
      "text/plain": [
       "   longitude  latitude  housing_median_age  total_rooms  total_bedrooms  \\\n",
       "0    -122.23     37.88                41.0        880.0           129.0   \n",
       "1    -122.22     37.86                21.0       7099.0          1106.0   \n",
       "2    -122.24     37.85                52.0       1467.0           190.0   \n",
       "3    -122.25     37.85                52.0       1274.0           235.0   \n",
       "4    -122.25     37.85                52.0       1627.0           280.0   \n",
       "\n",
       "   population  households  median_income  median_house_value ocean_proximity  \n",
       "0       322.0       126.0         8.3252            452600.0        NEAR BAY  \n",
       "1      2401.0      1138.0         8.3014            358500.0        NEAR BAY  \n",
       "2       496.0       177.0         7.2574            352100.0        NEAR BAY  \n",
       "3       558.0       219.0         5.6431            341300.0        NEAR BAY  \n",
       "4       565.0       259.0         3.8462            342200.0        NEAR BAY  "
      ]
     },
     "execution_count": 6,
     "metadata": {},
     "output_type": "execute_result"
    }
   ],
   "source": [
    "df = pd.read_csv(\"housing.csv\")\n",
    "print(df.shape)\n",
    "df.head()"
   ]
  },
  {
   "cell_type": "markdown",
   "id": "27431b33",
   "metadata": {},
   "source": [
    "## Custom Transformers"
   ]
  },
  {
   "cell_type": "markdown",
   "id": "b2178ad6",
   "metadata": {},
   "source": [
    "For information about Duck Typing, click [here](https://www.geeksforgeeks.org/duck-typing-in-python/).\n",
    "\n",
    "The following cell has a lot going on - let's break it down here:\n",
    "\n",
    "We begin by importing some base classes, from which our CombinedAttributesAdder Class will inherit from.  Next, we specify the column indices of the total_rooms, total_bedrooms, population, and households features in the housing dataframe.  After that, we define the class, which inherits from the two base classes.  The [\\_\\_init\\_\\_](https://stackoverflow.com/questions/625083/what-init-and-self-do-in-python) method serves as the class constructors and allows us to instantiate objects of the class.  There is only one class attribute (or data member) defined, but remember that others could be inherited from the base classes!  The fit method does nothing, but it must exist for use by Pipelines (discussed below).  The transform method creates our new features and returns them."
   ]
  },
  {
   "cell_type": "code",
   "execution_count": null,
   "id": "c2eecb5a",
   "metadata": {},
   "outputs": [],
   "source": [
    "from sklearn.base import BaseEstimator, TransformerMixin\n",
    "\n",
    "\n",
    "# column index\n",
    "rooms_ix, bedrooms_ix, population_ix, households_ix = 3, 4, 5, 6"
   ]
  },
  {
   "cell_type": "code",
   "execution_count": null,
   "id": "5acaf494",
   "metadata": {},
   "outputs": [],
   "source": [
    "class CombinedAttributesAdder(BaseEstimator, TransformerMixin):\n",
    "    \n",
    "    def __init__(self, add_bedrooms_per_room = True): # no *args or **kargs\n",
    "        self.add_bedrooms_per_room = add_bedrooms_per_room\n",
    "        \n",
    "    def fit(self, X, y=None):\n",
    "        return self  # nothing else to do\n",
    "    \n",
    "    def transform(self, X):\n",
    "        rooms_per_household = X[:, rooms_ix] / X[:, households_ix]\n",
    "        population_per_household = X[:, population_ix] / X[:, households_ix]\n",
    "        \n",
    "        if self.add_bedrooms_per_room:\n",
    "            bedrooms_per_room = X[:, bedrooms_ix] / X[:, rooms_ix]\n",
    "            return np.c_[X, rooms_per_household, population_per_household,\n",
    "                         bedrooms_per_room]\n",
    "        else:\n",
    "            return np.c_[X, rooms_per_household, population_per_household]"
   ]
  },
  {
   "cell_type": "code",
   "execution_count": null,
   "id": "0ee2519c",
   "metadata": {},
   "outputs": [],
   "source": [
    "attr_adder = CombinedAttributesAdder(add_bedrooms_per_room=False)\n",
    "housing_extra_attribs = attr_adder.transform(housing.values)"
   ]
  },
  {
   "cell_type": "code",
   "execution_count": null,
   "id": "a44ec685",
   "metadata": {},
   "outputs": [],
   "source": [
    "housing_extra_attribs = pd.DataFrame(\n",
    "    housing_extra_attribs,\n",
    "    columns=list(housing.columns)+[\"rooms_per_household\", \"population_per_household\"],\n",
    "    index=housing.index)\n",
    "\n",
    "housing_extra_attribs.head()"
   ]
  },
  {
   "cell_type": "code",
   "execution_count": null,
   "id": "3e546cc6",
   "metadata": {},
   "outputs": [],
   "source": []
  },
  {
   "attachments": {},
   "cell_type": "markdown",
   "id": "83212bb8",
   "metadata": {},
   "source": [
    "## Scale the Data\n",
    "### 2 ways to scale Data:\n",
    "\n",
    "### *** DO NOT SCALE Y_Train & Y_TEST, \n",
    "\n",
    "##### **** scale only X_train, X_test & X_validation \n",
    "\n",
    "## Fit only on X_train\n",
    "    * scaler = StandardScaler()\n",
    "    * scaler.fit(X_train)\n",
    "    * X_train = scaler.transform(X_train)\n",
    "    * X_eval = scaler.transform(X_validation)\n",
    "    * X_test = scaler.transform(X_test)\n",
    "\n",
    "#### 1. The [StandardScalar](https://scikit-learn.org/stable/modules/generated/sklearn.preprocessing.StandardScaler.html) class is used to standardize (or normalize) features by removing the mean and scaling to unit variance.\n",
    "    -- Will always have a mean of 0 & variance unit of 1 aka standard deviation\n",
    "    -- No bound limit like min_max which might be a problem for some algorithms such as neural networks because they expect values to be bound between 0 to 1\n",
    "    -- Much less affected by outliers\n",
    "    -- calculated as Z = (x - u_mean) / standard deviation![image-2.png](attachment:image-2.png)\n",
    "\n",
    "\n",
    "\n",
    "#### 2. The MinMax Scalar is used to normalize the features between 0 & 1\n",
    "*** Outliers will affect as formula used is\n",
    "    -- Values are shifted & rescaled so that they end up raning from 0 to 1\n",
    "    -- Sometimes the range might be -1 to 1\n",
    "    -- calculated as Z = ( x - x_min) / (x_max - x_min)\n",
    "    --sckit-learn -> min_max which will give you option to change range to desired amounts outside of the 0 to 1"
   ]
  },
  {
   "cell_type": "code",
   "execution_count": null,
   "id": "d55de5b5",
   "metadata": {},
   "outputs": [],
   "source": []
  },
  {
   "cell_type": "code",
   "execution_count": null,
   "id": "f787df85",
   "metadata": {},
   "outputs": [],
   "source": []
  },
  {
   "cell_type": "markdown",
   "id": "39fbff2f",
   "metadata": {},
   "source": [
    "## Transformation Pipelines\n",
    "\n",
    "#### 1. Pipeline -> Apply transformation to numerical or categorial in a sequence \n",
    "#### 2. ColumnTransformert -> Apply the Pipleline created in step 1 to both Numerical & Categorical data"
   ]
  },
  {
   "cell_type": "markdown",
   "id": "cf77a974",
   "metadata": {},
   "source": [
    "Sci-kit Learn's [Pipeline](https://scikit-learn.org/stable/modules/generated/sklearn.pipeline.Pipeline.html) class allows us to sequentially apply a list of transforms and a final estimator. Intermediate steps of the pipeline must be ‘transforms’, that is, they must implement fit and transform methods. The final estimator only needs to implement fit.\n"
   ]
  },
  {
   "cell_type": "code",
   "execution_count": null,
   "id": "4442adc7",
   "metadata": {},
   "outputs": [],
   "source": []
  },
  {
   "cell_type": "markdown",
   "id": "10fdf83f",
   "metadata": {},
   "source": [
    "##  Pipeline -> Apply transformation to numerical or categorial in a sequence"
   ]
  },
  {
   "cell_type": "code",
   "execution_count": 8,
   "id": "fa064102",
   "metadata": {},
   "outputs": [],
   "source": [
    "from sklearn.pipeline import Pipeline\n",
    "\n",
    "from sklearn.impute import SimpleImputer\n",
    "from sklearn.preprocessing import StandardScaler\n",
    "from sklearn.preprocessing import MinMaxScaler\n",
    "\n",
    "num_pipeline = Pipeline([ \n",
    "    ('SimpleImputer', SimpleImputer(strategy = 'median')),\n",
    "    ('StandardScaler ', StandardScaler()),\n",
    "    ('MinMax AKA Normalization', MinMaxScaler())\n",
    "    \n",
    "])"
   ]
  },
  {
   "cell_type": "code",
   "execution_count": 10,
   "id": "00ed0acd",
   "metadata": {},
   "outputs": [
    {
     "data": {
      "text/plain": [
       "Index(['longitude', 'latitude', 'housing_median_age', 'total_rooms',\n",
       "       'total_bedrooms', 'population', 'households', 'median_income',\n",
       "       'median_house_value', 'ocean_proximity'],\n",
       "      dtype='object')"
      ]
     },
     "execution_count": 10,
     "metadata": {},
     "output_type": "execute_result"
    }
   ],
   "source": [
    "df.columns"
   ]
  },
  {
   "cell_type": "code",
   "execution_count": 11,
   "id": "beb52a2c",
   "metadata": {},
   "outputs": [
    {
     "data": {
      "text/plain": [
       "Index(['longitude', 'latitude', 'housing_median_age', 'total_rooms',\n",
       "       'total_bedrooms', 'population', 'households', 'median_income',\n",
       "       'median_house_value'],\n",
       "      dtype='object')"
      ]
     },
     "execution_count": 11,
     "metadata": {},
     "output_type": "execute_result"
    }
   ],
   "source": [
    "df_numeric = df.drop('ocean_proximity', axis=1)\n",
    "df_numeric.columns"
   ]
  },
  {
   "cell_type": "code",
   "execution_count": 12,
   "id": "4ebd212a",
   "metadata": {},
   "outputs": [
    {
     "data": {
      "text/plain": [
       "array([[-1.32783522,  1.05254828,  0.98214266, ..., -0.97703285,\n",
       "         2.34476576,  2.12963148],\n",
       "       [-1.32284391,  1.04318455, -0.60701891, ...,  1.66996103,\n",
       "         2.33223796,  1.31415614],\n",
       "       [-1.33282653,  1.03850269,  1.85618152, ..., -0.84363692,\n",
       "         1.7826994 ,  1.25869341],\n",
       "       ...,\n",
       "       [-0.8237132 ,  1.77823747, -0.92485123, ..., -0.17404163,\n",
       "        -1.14259331, -0.99274649],\n",
       "       [-0.87362627,  1.77823747, -0.84539315, ..., -0.39375258,\n",
       "        -1.05458292, -1.05860847],\n",
       "       [-0.83369581,  1.75014627, -1.00430931, ...,  0.07967221,\n",
       "        -0.78012947, -1.01787803]])"
      ]
     },
     "execution_count": 12,
     "metadata": {},
     "output_type": "execute_result"
    }
   ],
   "source": [
    "housing_num_transformed = num_pipeline.fit_transform(df_numeric)\n",
    "housing_num_transformed"
   ]
  },
  {
   "cell_type": "code",
   "execution_count": null,
   "id": "a071168d",
   "metadata": {},
   "outputs": [],
   "source": []
  },
  {
   "cell_type": "markdown",
   "id": "e4c21be3",
   "metadata": {},
   "source": [
    "## ColumnTransformer -> Apply the Pipleline created in step 1 to both Numerical & Categorical data"
   ]
  },
  {
   "cell_type": "markdown",
   "id": "49ee2c13",
   "metadata": {},
   "source": [
    "Let's bring it all together now by adding the scaled numerical featuers to the one-hot vectors we obtained previously through the use of the [ColumnTransformer](https://scikit-learn.org/stable/modules/generated/sklearn.compose.ColumnTransformer.html) class, which transforms only columns of a DataFrame. \n",
    "\n",
    " ##### Steps:\n",
    " \n",
    "         1. Get the column names for Numerical & Categorical features\n",
    "         2. Use the ColumnTransformer to apply the particular transformations for each type of feature\n",
    "         3. Fit Transform the ColumnTransformer created"
   ]
  },
  {
   "cell_type": "code",
   "execution_count": 14,
   "id": "72f7ba93",
   "metadata": {},
   "outputs": [
    {
     "name": "stdout",
     "output_type": "stream",
     "text": [
      "['longitude', 'latitude', 'housing_median_age', 'total_rooms', 'total_bedrooms', 'population', 'households', 'median_income', 'median_house_value']\n"
     ]
    }
   ],
   "source": [
    "from sklearn.compose import ColumnTransformer\n",
    "\n",
    "from sklearn.preprocessing import OneHotEncoder\n",
    "from sklearn.preprocessing import OrdinalEncoder\n"
   ]
  },
  {
   "cell_type": "markdown",
   "id": "c78a3511",
   "metadata": {},
   "source": [
    "### 1. Get the column names for Numerical & Categorical features"
   ]
  },
  {
   "cell_type": "code",
   "execution_count": null,
   "id": "454886b3",
   "metadata": {},
   "outputs": [],
   "source": [
    "num_attribs = list(df_numeric)\n",
    "cat_attribs = [\"ocean_proximity\"]\n",
    "\n",
    "print(num_attribs)"
   ]
  },
  {
   "cell_type": "markdown",
   "id": "1708c8cb",
   "metadata": {},
   "source": [
    "### 2. Use the ColumnTransformer to apply the particular transformations for each type of feature"
   ]
  },
  {
   "cell_type": "code",
   "execution_count": null,
   "id": "541c8e93",
   "metadata": {},
   "outputs": [],
   "source": [
    "\n",
    "full_pipeline = ColumnTransformer([ \n",
    "    ('Numerical transformers', num_pipeline, num_attribs),\n",
    "    ('Categorical transforerms', OneHotEncoder(), cat_attribs)\n",
    "    \n",
    "        ])"
   ]
  },
  {
   "cell_type": "markdown",
   "id": "dd78bfaa",
   "metadata": {},
   "source": [
    "### 3. Fit Transform the ColumnTransformer created"
   ]
  },
  {
   "cell_type": "code",
   "execution_count": 15,
   "id": "a7e61cf0",
   "metadata": {},
   "outputs": [
    {
     "data": {
      "text/plain": [
       "array([[-1.32783522,  1.05254828,  0.98214266, ...,  0.        ,\n",
       "         1.        ,  0.        ],\n",
       "       [-1.32284391,  1.04318455, -0.60701891, ...,  0.        ,\n",
       "         1.        ,  0.        ],\n",
       "       [-1.33282653,  1.03850269,  1.85618152, ...,  0.        ,\n",
       "         1.        ,  0.        ],\n",
       "       ...,\n",
       "       [-0.8237132 ,  1.77823747, -0.92485123, ...,  0.        ,\n",
       "         0.        ,  0.        ],\n",
       "       [-0.87362627,  1.77823747, -0.84539315, ...,  0.        ,\n",
       "         0.        ,  0.        ],\n",
       "       [-0.83369581,  1.75014627, -1.00430931, ...,  0.        ,\n",
       "         0.        ,  0.        ]])"
      ]
     },
     "execution_count": 15,
     "metadata": {},
     "output_type": "execute_result"
    }
   ],
   "source": [
    "housing_prepared = full_pipeline.fit_transform(df)\n",
    "housing_prepared"
   ]
  },
  {
   "cell_type": "code",
   "execution_count": 16,
   "id": "b16623c6",
   "metadata": {},
   "outputs": [
    {
     "data": {
      "text/plain": [
       "(20640, 10)"
      ]
     },
     "execution_count": 16,
     "metadata": {},
     "output_type": "execute_result"
    }
   ],
   "source": [
    "df.shape"
   ]
  },
  {
   "cell_type": "code",
   "execution_count": 17,
   "id": "354829b4",
   "metadata": {},
   "outputs": [
    {
     "data": {
      "text/plain": [
       "(20640, 14)"
      ]
     },
     "execution_count": 17,
     "metadata": {},
     "output_type": "execute_result"
    }
   ],
   "source": [
    "housing_prepared.shape"
   ]
  },
  {
   "cell_type": "code",
   "execution_count": 28,
   "id": "606e1f4d",
   "metadata": {},
   "outputs": [],
   "source": [
    "col_names = list(df.columns) \n",
    "col_names.append('ocean_proximity1')\n",
    "col_names.append('ocean_proximity2')\n",
    "col_names.append('ocean_proximity3')\n",
    "col_names.append('ocean_proximity4')"
   ]
  },
  {
   "cell_type": "code",
   "execution_count": 29,
   "id": "3de1ea16",
   "metadata": {},
   "outputs": [
    {
     "data": {
      "text/plain": [
       "['longitude',\n",
       " 'latitude',\n",
       " 'housing_median_age',\n",
       " 'total_rooms',\n",
       " 'total_bedrooms',\n",
       " 'population',\n",
       " 'households',\n",
       " 'median_income',\n",
       " 'median_house_value',\n",
       " 'ocean_proximity',\n",
       " 'ocean_proximity1',\n",
       " 'ocean_proximity2',\n",
       " 'ocean_proximity3',\n",
       " 'ocean_proximity4']"
      ]
     },
     "execution_count": 29,
     "metadata": {},
     "output_type": "execute_result"
    }
   ],
   "source": [
    "col_names"
   ]
  },
  {
   "cell_type": "code",
   "execution_count": 24,
   "id": "c07811f2",
   "metadata": {},
   "outputs": [
    {
     "data": {
      "text/plain": [
       "RangeIndex(start=0, stop=20640, step=1)"
      ]
     },
     "execution_count": 24,
     "metadata": {},
     "output_type": "execute_result"
    }
   ],
   "source": [
    "df.index "
   ]
  },
  {
   "cell_type": "code",
   "execution_count": 30,
   "id": "be88a402",
   "metadata": {
    "scrolled": true
   },
   "outputs": [
    {
     "data": {
      "text/html": [
       "<div>\n",
       "<style scoped>\n",
       "    .dataframe tbody tr th:only-of-type {\n",
       "        vertical-align: middle;\n",
       "    }\n",
       "\n",
       "    .dataframe tbody tr th {\n",
       "        vertical-align: top;\n",
       "    }\n",
       "\n",
       "    .dataframe thead th {\n",
       "        text-align: right;\n",
       "    }\n",
       "</style>\n",
       "<table border=\"1\" class=\"dataframe\">\n",
       "  <thead>\n",
       "    <tr style=\"text-align: right;\">\n",
       "      <th></th>\n",
       "      <th>longitude</th>\n",
       "      <th>latitude</th>\n",
       "      <th>housing_median_age</th>\n",
       "      <th>total_rooms</th>\n",
       "      <th>total_bedrooms</th>\n",
       "      <th>population</th>\n",
       "      <th>households</th>\n",
       "      <th>median_income</th>\n",
       "      <th>median_house_value</th>\n",
       "      <th>ocean_proximity</th>\n",
       "      <th>ocean_proximity1</th>\n",
       "      <th>ocean_proximity2</th>\n",
       "      <th>ocean_proximity3</th>\n",
       "      <th>ocean_proximity4</th>\n",
       "    </tr>\n",
       "  </thead>\n",
       "  <tbody>\n",
       "    <tr>\n",
       "      <th>0</th>\n",
       "      <td>-1.327835</td>\n",
       "      <td>1.052548</td>\n",
       "      <td>0.982143</td>\n",
       "      <td>-0.804819</td>\n",
       "      <td>-0.972476</td>\n",
       "      <td>-0.974429</td>\n",
       "      <td>-0.977033</td>\n",
       "      <td>2.344766</td>\n",
       "      <td>2.129631</td>\n",
       "      <td>0.0</td>\n",
       "      <td>0.0</td>\n",
       "      <td>0.0</td>\n",
       "      <td>1.0</td>\n",
       "      <td>0.0</td>\n",
       "    </tr>\n",
       "    <tr>\n",
       "      <th>1</th>\n",
       "      <td>-1.322844</td>\n",
       "      <td>1.043185</td>\n",
       "      <td>-0.607019</td>\n",
       "      <td>2.045890</td>\n",
       "      <td>1.357143</td>\n",
       "      <td>0.861439</td>\n",
       "      <td>1.669961</td>\n",
       "      <td>2.332238</td>\n",
       "      <td>1.314156</td>\n",
       "      <td>0.0</td>\n",
       "      <td>0.0</td>\n",
       "      <td>0.0</td>\n",
       "      <td>1.0</td>\n",
       "      <td>0.0</td>\n",
       "    </tr>\n",
       "    <tr>\n",
       "      <th>2</th>\n",
       "      <td>-1.332827</td>\n",
       "      <td>1.038503</td>\n",
       "      <td>1.856182</td>\n",
       "      <td>-0.535746</td>\n",
       "      <td>-0.827024</td>\n",
       "      <td>-0.820777</td>\n",
       "      <td>-0.843637</td>\n",
       "      <td>1.782699</td>\n",
       "      <td>1.258693</td>\n",
       "      <td>0.0</td>\n",
       "      <td>0.0</td>\n",
       "      <td>0.0</td>\n",
       "      <td>1.0</td>\n",
       "      <td>0.0</td>\n",
       "    </tr>\n",
       "    <tr>\n",
       "      <th>3</th>\n",
       "      <td>-1.337818</td>\n",
       "      <td>1.038503</td>\n",
       "      <td>1.856182</td>\n",
       "      <td>-0.624215</td>\n",
       "      <td>-0.719723</td>\n",
       "      <td>-0.766028</td>\n",
       "      <td>-0.733781</td>\n",
       "      <td>0.932968</td>\n",
       "      <td>1.165100</td>\n",
       "      <td>0.0</td>\n",
       "      <td>0.0</td>\n",
       "      <td>0.0</td>\n",
       "      <td>1.0</td>\n",
       "      <td>0.0</td>\n",
       "    </tr>\n",
       "    <tr>\n",
       "      <th>4</th>\n",
       "      <td>-1.337818</td>\n",
       "      <td>1.038503</td>\n",
       "      <td>1.856182</td>\n",
       "      <td>-0.462404</td>\n",
       "      <td>-0.612423</td>\n",
       "      <td>-0.759847</td>\n",
       "      <td>-0.629157</td>\n",
       "      <td>-0.012881</td>\n",
       "      <td>1.172900</td>\n",
       "      <td>0.0</td>\n",
       "      <td>0.0</td>\n",
       "      <td>0.0</td>\n",
       "      <td>1.0</td>\n",
       "      <td>0.0</td>\n",
       "    </tr>\n",
       "  </tbody>\n",
       "</table>\n",
       "</div>"
      ],
      "text/plain": [
       "   longitude  latitude  housing_median_age  total_rooms  total_bedrooms  \\\n",
       "0  -1.327835  1.052548            0.982143    -0.804819       -0.972476   \n",
       "1  -1.322844  1.043185           -0.607019     2.045890        1.357143   \n",
       "2  -1.332827  1.038503            1.856182    -0.535746       -0.827024   \n",
       "3  -1.337818  1.038503            1.856182    -0.624215       -0.719723   \n",
       "4  -1.337818  1.038503            1.856182    -0.462404       -0.612423   \n",
       "\n",
       "   population  households  median_income  median_house_value  ocean_proximity  \\\n",
       "0   -0.974429   -0.977033       2.344766            2.129631              0.0   \n",
       "1    0.861439    1.669961       2.332238            1.314156              0.0   \n",
       "2   -0.820777   -0.843637       1.782699            1.258693              0.0   \n",
       "3   -0.766028   -0.733781       0.932968            1.165100              0.0   \n",
       "4   -0.759847   -0.629157      -0.012881            1.172900              0.0   \n",
       "\n",
       "   ocean_proximity1  ocean_proximity2  ocean_proximity3  ocean_proximity4  \n",
       "0               0.0               0.0               1.0               0.0  \n",
       "1               0.0               0.0               1.0               0.0  \n",
       "2               0.0               0.0               1.0               0.0  \n",
       "3               0.0               0.0               1.0               0.0  \n",
       "4               0.0               0.0               1.0               0.0  "
      ]
     },
     "execution_count": 30,
     "metadata": {},
     "output_type": "execute_result"
    }
   ],
   "source": [
    "housing_transformed = pd.DataFrame(housing_prepared, columns=col_names, index=df.index) \n",
    "housing_transformed.head()"
   ]
  },
  {
   "cell_type": "code",
   "execution_count": null,
   "id": "3c6942b2",
   "metadata": {},
   "outputs": [],
   "source": []
  },
  {
   "cell_type": "markdown",
   "id": "0f5d6e13",
   "metadata": {},
   "source": [
    "### Applying just the MinMax scaler to see the difference between above which is the StandardScalre"
   ]
  },
  {
   "cell_type": "code",
   "execution_count": 32,
   "id": "ada2dece",
   "metadata": {},
   "outputs": [],
   "source": [
    "minmax_num_pipeline = Pipeline([ \n",
    "    ('MinMax AKA Normalization', MinMaxScaler()) \n",
    "])"
   ]
  },
  {
   "cell_type": "code",
   "execution_count": 33,
   "id": "f04ac159",
   "metadata": {},
   "outputs": [
    {
     "data": {
      "text/plain": [
       "array([[0.21115538, 0.5674814 , 0.78431373, ..., 0.02055583, 0.53966842,\n",
       "        0.90226638],\n",
       "       [0.21215139, 0.565356  , 0.39215686, ..., 0.18697583, 0.53802706,\n",
       "        0.70824656],\n",
       "       [0.21015936, 0.5642933 , 1.        , ..., 0.02894261, 0.46602805,\n",
       "        0.69505074],\n",
       "       ...,\n",
       "       [0.31175299, 0.73219979, 0.31372549, ..., 0.07104095, 0.08276438,\n",
       "        0.15938285],\n",
       "       [0.30179283, 0.73219979, 0.33333333, ..., 0.05722743, 0.09429525,\n",
       "        0.14371281],\n",
       "       [0.30976096, 0.72582359, 0.29411765, ..., 0.08699227, 0.13025338,\n",
       "        0.15340349]])"
      ]
     },
     "execution_count": 33,
     "metadata": {},
     "output_type": "execute_result"
    }
   ],
   "source": [
    "min_max_transformed = minmax_num_pipeline.fit_transform(df_numeric)\n",
    "min_max_transformed"
   ]
  },
  {
   "cell_type": "code",
   "execution_count": 34,
   "id": "dd6eaccb",
   "metadata": {},
   "outputs": [
    {
     "data": {
      "text/html": [
       "<div>\n",
       "<style scoped>\n",
       "    .dataframe tbody tr th:only-of-type {\n",
       "        vertical-align: middle;\n",
       "    }\n",
       "\n",
       "    .dataframe tbody tr th {\n",
       "        vertical-align: top;\n",
       "    }\n",
       "\n",
       "    .dataframe thead th {\n",
       "        text-align: right;\n",
       "    }\n",
       "</style>\n",
       "<table border=\"1\" class=\"dataframe\">\n",
       "  <thead>\n",
       "    <tr style=\"text-align: right;\">\n",
       "      <th></th>\n",
       "      <th>longitude</th>\n",
       "      <th>latitude</th>\n",
       "      <th>housing_median_age</th>\n",
       "      <th>total_rooms</th>\n",
       "      <th>total_bedrooms</th>\n",
       "      <th>population</th>\n",
       "      <th>households</th>\n",
       "      <th>median_income</th>\n",
       "      <th>median_house_value</th>\n",
       "    </tr>\n",
       "  </thead>\n",
       "  <tbody>\n",
       "    <tr>\n",
       "      <th>0</th>\n",
       "      <td>0.211155</td>\n",
       "      <td>0.567481</td>\n",
       "      <td>0.784314</td>\n",
       "      <td>0.022331</td>\n",
       "      <td>0.019863</td>\n",
       "      <td>0.008941</td>\n",
       "      <td>0.020556</td>\n",
       "      <td>0.539668</td>\n",
       "      <td>0.902266</td>\n",
       "    </tr>\n",
       "    <tr>\n",
       "      <th>1</th>\n",
       "      <td>0.212151</td>\n",
       "      <td>0.565356</td>\n",
       "      <td>0.392157</td>\n",
       "      <td>0.180503</td>\n",
       "      <td>0.171477</td>\n",
       "      <td>0.067210</td>\n",
       "      <td>0.186976</td>\n",
       "      <td>0.538027</td>\n",
       "      <td>0.708247</td>\n",
       "    </tr>\n",
       "    <tr>\n",
       "      <th>2</th>\n",
       "      <td>0.210159</td>\n",
       "      <td>0.564293</td>\n",
       "      <td>1.000000</td>\n",
       "      <td>0.037260</td>\n",
       "      <td>0.029330</td>\n",
       "      <td>0.013818</td>\n",
       "      <td>0.028943</td>\n",
       "      <td>0.466028</td>\n",
       "      <td>0.695051</td>\n",
       "    </tr>\n",
       "    <tr>\n",
       "      <th>3</th>\n",
       "      <td>0.209163</td>\n",
       "      <td>0.564293</td>\n",
       "      <td>1.000000</td>\n",
       "      <td>0.032352</td>\n",
       "      <td>0.036313</td>\n",
       "      <td>0.015555</td>\n",
       "      <td>0.035849</td>\n",
       "      <td>0.354699</td>\n",
       "      <td>0.672783</td>\n",
       "    </tr>\n",
       "    <tr>\n",
       "      <th>4</th>\n",
       "      <td>0.209163</td>\n",
       "      <td>0.564293</td>\n",
       "      <td>1.000000</td>\n",
       "      <td>0.041330</td>\n",
       "      <td>0.043296</td>\n",
       "      <td>0.015752</td>\n",
       "      <td>0.042427</td>\n",
       "      <td>0.230776</td>\n",
       "      <td>0.674638</td>\n",
       "    </tr>\n",
       "  </tbody>\n",
       "</table>\n",
       "</div>"
      ],
      "text/plain": [
       "   longitude  latitude  housing_median_age  total_rooms  total_bedrooms  \\\n",
       "0   0.211155  0.567481            0.784314     0.022331        0.019863   \n",
       "1   0.212151  0.565356            0.392157     0.180503        0.171477   \n",
       "2   0.210159  0.564293            1.000000     0.037260        0.029330   \n",
       "3   0.209163  0.564293            1.000000     0.032352        0.036313   \n",
       "4   0.209163  0.564293            1.000000     0.041330        0.043296   \n",
       "\n",
       "   population  households  median_income  median_house_value  \n",
       "0    0.008941    0.020556       0.539668            0.902266  \n",
       "1    0.067210    0.186976       0.538027            0.708247  \n",
       "2    0.013818    0.028943       0.466028            0.695051  \n",
       "3    0.015555    0.035849       0.354699            0.672783  \n",
       "4    0.015752    0.042427       0.230776            0.674638  "
      ]
     },
     "execution_count": 34,
     "metadata": {},
     "output_type": "execute_result"
    }
   ],
   "source": [
    "min_max_df = pd.DataFrame(min_max_transformed, columns=df_numeric.columns, index=df.index) \n",
    "min_max_df.head()"
   ]
  }
 ],
 "metadata": {
  "kernelspec": {
   "display_name": "Python 3 (ipykernel)",
   "language": "python",
   "name": "python3"
  },
  "language_info": {
   "codemirror_mode": {
    "name": "ipython",
    "version": 3
   },
   "file_extension": ".py",
   "mimetype": "text/x-python",
   "name": "python",
   "nbconvert_exporter": "python",
   "pygments_lexer": "ipython3",
   "version": "3.9.13"
  }
 },
 "nbformat": 4,
 "nbformat_minor": 5
}
